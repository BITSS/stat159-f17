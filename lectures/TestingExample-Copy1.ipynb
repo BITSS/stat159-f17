{
 "cells": [
  {
   "cell_type": "code",
   "execution_count": 23,
   "metadata": {},
   "outputs": [],
   "source": [
    "import unittest"
   ]
  },
  {
   "cell_type": "code",
   "execution_count": 28,
   "metadata": {},
   "outputs": [
    {
     "ename": "NameError",
     "evalue": "name 'BOOM' is not defined",
     "output_type": "error",
     "traceback": [
      "\u001b[0;31m---------------------------------------------------------------------------\u001b[0m",
      "\u001b[0;31mNameError\u001b[0m                                 Traceback (most recent call last)",
      "\u001b[0;32m<ipython-input-28-ed2451f93675>\u001b[0m in \u001b[0;36m<module>\u001b[0;34m()\u001b[0m\n\u001b[0;32m----> 1\u001b[0;31m \u001b[0mBOOM\u001b[0m\u001b[0;34m\u001b[0m\u001b[0m\n\u001b[0m",
      "\u001b[0;31mNameError\u001b[0m: name 'BOOM' is not defined"
     ]
    }
   ],
   "source": [
    "BOOM"
   ]
  },
  {
   "cell_type": "code",
   "execution_count": 44,
   "metadata": {},
   "outputs": [],
   "source": [
    "class TestCase(unittest.TestCase):\n",
    "    def test_pass(self):\n",
    "        assert True\n",
    "        \n",
    "    def test_fail(self):\n",
    "        assert False\n",
    "        \n",
    "    def test_error(self):\n",
    "        x, y = 1, 0\n",
    "        x/y"
   ]
  },
  {
   "cell_type": "code",
   "execution_count": 45,
   "metadata": {},
   "outputs": [
    {
     "name": "stderr",
     "output_type": "stream",
     "text": [
      "test_error (__main__.TestCase) ... ERROR\n",
      "test_fail (__main__.TestCase) ... FAIL\n",
      "test_pass (__main__.TestCase) ... ok\n",
      "\n",
      "======================================================================\n",
      "ERROR: test_error (__main__.TestCase)\n",
      "----------------------------------------------------------------------\n",
      "Traceback (most recent call last):\n",
      "  File \"<ipython-input-44-41e45f826779>\", line 10, in test_error\n",
      "    x/y\n",
      "ZeroDivisionError: division by zero\n",
      "\n",
      "======================================================================\n",
      "FAIL: test_fail (__main__.TestCase)\n",
      "----------------------------------------------------------------------\n",
      "Traceback (most recent call last):\n",
      "  File \"<ipython-input-44-41e45f826779>\", line 6, in test_fail\n",
      "    assert False\n",
      "AssertionError\n",
      "\n",
      "----------------------------------------------------------------------\n",
      "Ran 3 tests in 0.006s\n",
      "\n",
      "FAILED (failures=1, errors=1)\n"
     ]
    }
   ],
   "source": [
    "unittest.main(argv=['foo'], exit=False, verbosity=2);"
   ]
  },
  {
   "cell_type": "code",
   "execution_count": 46,
   "metadata": {},
   "outputs": [],
   "source": [
    "import pytest"
   ]
  },
  {
   "cell_type": "code",
   "execution_count": 48,
   "metadata": {},
   "outputs": [
    {
     "name": "stdout",
     "output_type": "stream",
     "text": [
      "[NbConvertApp] Converting notebook TestingExample.ipynb to script\n",
      "[NbConvertApp] Writing 600 bytes to testing_example.py\n",
      "================================= test session starts ==================================\n",
      "platform darwin -- Python 3.6.3, pytest-3.2.1, py-1.4.34, pluggy-0.4.0\n",
      "rootdir: /Users/fperez/teach/berkeley/2017-stat159/stat159/lectures, inifile:\n",
      "collected 3 items\n",
      "\n",
      "testing_example.py F..\n",
      "\n",
      "======================================= FAILURES =======================================\n",
      "_________________________________ TestCase.test_error __________________________________\n",
      "\n",
      "self = <testing_example.TestCase testMethod=test_error>\n",
      "\n",
      "    def test_pass(self):\n",
      ">       assert True\n",
      "E       ZeroDivisionError: division by zero\n",
      "\n",
      "self       = <testing_example.TestCase testMethod=test_error>\n",
      "\n",
      "testing_example.py:21: ZeroDivisionError\n",
      "========================== 1 failed, 2 passed in 0.05 seconds ==========================\n"
     ]
    },
    {
     "data": {
      "text/plain": [
       "1"
      ]
     },
     "execution_count": 48,
     "metadata": {},
     "output_type": "execute_result"
    }
   ],
   "source": [
    "!jupyter nbconvert --to script --output testing_example TestingExample.ipynb\n",
    "pytest.main(['-l', 'testing_example.py'])"
   ]
  },
  {
   "cell_type": "code",
   "execution_count": 42,
   "metadata": {},
   "outputs": [
    {
     "name": "stdout",
     "output_type": "stream",
     "text": [
      "\u001b[1m============================= test session starts ==============================\u001b[0m\n",
      "platform darwin -- Python 3.6.3, pytest-3.2.1, py-1.4.34, pluggy-0.4.0\n",
      "rootdir: /Users/fperez/teach/berkeley/2017-stat159/stat159/lectures, inifile:\n",
      "collected 0 items / 1 errors                                                    \u001b[0m\u001b[1m\n",
      "\n",
      "==================================== ERRORS ====================================\n",
      "_____________________ ERROR collecting testing_example.py ______________________\n",
      "\u001b[1m\u001b[31mtesting_example.py\u001b[0m:13: in <module>\n",
      "\u001b[1m    BOOM\u001b[0m\n",
      "\u001b[1m\u001b[31mE   NameError: name 'BOOM' is not defined\u001b[0m\n",
      "!!!!!!!!!!!!!!!!!!! Interrupted: 1 errors during collection !!!!!!!!!!!!!!!!!!!!\n",
      "\u001b[31m\u001b[1m=========================== 1 error in 0.09 seconds ============================\u001b[0m\n"
     ]
    }
   ],
   "source": [
    "!pytest -l testing_example.py"
   ]
  },
  {
   "cell_type": "code",
   "execution_count": null,
   "metadata": {},
   "outputs": [],
   "source": []
  }
 ],
 "metadata": {
  "kernelspec": {
   "display_name": "Python 3",
   "language": "python",
   "name": "python3"
  },
  "language_info": {
   "codemirror_mode": {
    "name": "ipython",
    "version": 3
   },
   "file_extension": ".py",
   "mimetype": "text/x-python",
   "name": "python",
   "nbconvert_exporter": "python",
   "pygments_lexer": "ipython3",
   "version": "3.6.3"
  }
 },
 "nbformat": 4,
 "nbformat_minor": 2
}
