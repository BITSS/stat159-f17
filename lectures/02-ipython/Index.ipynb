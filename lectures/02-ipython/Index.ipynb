{
 "cells": [
  {
   "cell_type": "markdown",
   "metadata": {},
   "source": [
    "# A quick overview of the Jupyter Notebook and IPython\n",
    "\n",
    "Today, we'll cover the basics of using the Jupyter Notebook effectively as an everyday tool, as well as using IPython as an improved Python environment.\n",
    "\n",
    "Class outline:\n",
    "\n",
    "* Super basic intro to the notebook: typing code.\n",
    "* [Notebook Basics](Notebook Basics.ipynb)\n",
    "* [Markdown Cells](Working With Markdown Cells.ipynb)\n",
    "* [IPython - beyond plain python](Beyond Plain Python.ipynb)\n",
    "\n",
    "**Note:** The notes for this lecture are just a small subset of the official [IPython in-depth tutorial](https://github.com/ipython/ipython-in-depth), which you can clone from github and study in more depth."
   ]
  }
 ],
 "metadata": {
  "kernelspec": {
   "display_name": "Python 3",
   "language": "python",
   "name": "python3"
  },
  "language_info": {
   "codemirror_mode": {
    "name": "ipython",
    "version": 3
   },
   "file_extension": ".py",
   "mimetype": "text/x-python",
   "name": "python",
   "nbconvert_exporter": "python",
   "pygments_lexer": "ipython3",
   "version": "3.6.2"
  }
 },
 "nbformat": 4,
 "nbformat_minor": 2
}
