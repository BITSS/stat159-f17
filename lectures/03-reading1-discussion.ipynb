{
 "cells": [
  {
   "cell_type": "markdown",
   "metadata": {},
   "source": [
    "# Some discussion points about last week's reading\n",
    "\n",
    "## Point 1\n",
    "\n",
    "\"While the article mentions the benefits of reproducibility and collaborative practices, it doesn’t discuss the practical drawbacks of the proper implementations it recommends. For example, adding such documentation and tracking every step in processes adds a significant extra workload on the shoulders of scientists who could be working on their actual subject. In an Academia where publishing is king, many scientists simply cannot afford to complete their work at an “open-source” standard. It also requires them to become skilled in tools and concepts they may have never been exposed to before. \"\n",
    "\n",
    "### Discussion\n",
    "\n",
    "* What parts do you think are the most burdensome?\n",
    "* Degrees of reproducibility?\n",
    "* Incentives/recognition?\n",
    "* What if social/community practices change?\n",
    "\n",
    "<p class=\"space\"></p>\n",
    "\n",
    "\n",
    "## Point 2\n",
    "\n",
    "\"So the fact that there still are such strong incentives for unscrupulous journal editors to allow lax standards for non-reproducible scientific research (which honestly to some extent is an oxymoron, because it really shouldn't be considered research if it can't be replicated by anyone) is very disappointing, but even more disappointing is that publication in these unscrupulous journals is even socially accepted in the scientific community as anything besides quack science.\"\n",
    "\n",
    "### Discussion\n",
    "* Can someone think of cases where we can't make research easily reproducible?\n",
    "* Today, many journals don't have formal guidelines for reproducibility.  How can we change some of that?\n",
    "\n",
    "<p class=\"space\"></p>\n",
    "\n",
    "## Point 3\n",
    "\n",
    "\"Reading this article, I think one of my biggest concerns about using open source practice would be security. This is especially a concern when working with EHR data. I’ve worked with sensitive patient level data before and I can see why researchers would be against things like code review, remote version control, etc. I know there are ways to scrub data of sensitive information and I wish those different techniques were discussed in the paper. \"\n",
    "\n",
    "### Discussion\n",
    "\n",
    "* What are some types of data that can be problematic to share?\n",
    "* *Differential privacy:* [this is a good overview written by an expert](https://blog.cryptographyengineering.com/2016/06/15/what-is-differential-privacy), which in particular, links to the [paper that showed the limits of anonymization on the Netflix dataset](https://www.cs.utexas.edu/~shmat/shmat_oak08netflix.pdf)."
   ]
  },
  {
   "cell_type": "code",
   "execution_count": 16,
   "metadata": {},
   "outputs": [
    {
     "data": {
      "text/html": [
       "<style>\n",
       "  .space {\n",
       "     margin-bottom: 5cm;\n",
       "  }\n",
       "\n",
       "  .big-space {\n",
       "     margin-bottom: 8cm;\n",
       "  }\n",
       "</style>"
      ],
      "text/plain": [
       "<IPython.core.display.HTML object>"
      ]
     },
     "metadata": {},
     "output_type": "display_data"
    }
   ],
   "source": [
    "%%html\n",
    "<style>\n",
    "  .space {\n",
    "     margin-bottom: 5cm;\n",
    "  }\n",
    "\n",
    "  .big-space {\n",
    "     margin-bottom: 8cm;\n",
    "  }\n",
    "</style>"
   ]
  }
 ],
 "metadata": {
  "kernelspec": {
   "display_name": "Python 3",
   "language": "python",
   "name": "python3"
  },
  "language_info": {
   "codemirror_mode": {
    "name": "ipython",
    "version": 3
   },
   "file_extension": ".py",
   "mimetype": "text/x-python",
   "name": "python",
   "nbconvert_exporter": "python",
   "pygments_lexer": "ipython3",
   "version": "3.6.2"
  }
 },
 "nbformat": 4,
 "nbformat_minor": 2
}
