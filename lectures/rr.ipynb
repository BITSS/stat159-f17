{
 "cells": [
  {
   "cell_type": "markdown",
   "metadata": {},
   "source": [
    "# Reinhart-Rogoff replication\n",
    "\n",
    "* Replication of Reinhart-Rogoff \"Growth in a Time of Debt.\"\n",
    "* Python port of R code by Thomas Herndon | Michael Ash | Robert Pollin\n",
    "* http://www.peri.umass.edu/236/hash/31e2ff374b6377b2ddec04deaa6388b1/publication/566/\n",
    "* Author: Vincent Arel-Bundock varel@umich.edu\n",
    "* Data: https://gist.github.com/vincentarelbundock/5409893/raw/a623f2f3bae027a0e51dd01ac5b70d44d909a7b9/RR-processed.csv"
   ]
  },
  {
   "cell_type": "code",
   "execution_count": 1,
   "metadata": {},
   "outputs": [
    {
     "name": "stderr",
     "output_type": "stream",
     "text": [
      "/Users/fperez/usr/conda/envs/s159/lib/python3.6/site-packages/statsmodels/compat/pandas.py:56: FutureWarning: The pandas.core.datetools module is deprecated and will be removed in a future version. Please use the pandas.tseries module instead.\n",
      "  from pandas.core import datetools\n"
     ]
    }
   ],
   "source": [
    "%matplotlib inline\n",
    "import statsmodels.api as sm\n",
    "import patsy\n",
    "import pandas as pd\n",
    "import numpy as np\n",
    "import matplotlib.pyplot as plt\n",
    "\n",
    "RR = pd.read_csv('RR-processed.csv')"
   ]
  },
  {
   "cell_type": "markdown",
   "metadata": {},
   "source": [
    "## Number of observations per country"
   ]
  },
  {
   "cell_type": "code",
   "execution_count": 2,
   "metadata": {},
   "outputs": [
    {
     "data": {
      "text/plain": [
       "Country\n",
       "Australia      64\n",
       "Austria        62\n",
       "Belgium        63\n",
       "Canada         64\n",
       "Denmark        56\n",
       "Finland        64\n",
       "France         54\n",
       "Germany        59\n",
       "Greece         40\n",
       "Ireland        63\n",
       "Italy          59\n",
       "Japan          54\n",
       "Netherlands    53\n",
       "New Zealand    64\n",
       "Norway         64\n",
       "Portugal       58\n",
       "Spain          42\n",
       "Sweden         64\n",
       "UK             64\n",
       "US             64\n",
       "dtype: int64"
      ]
     },
     "execution_count": 2,
     "metadata": {},
     "output_type": "execute_result"
    }
   ],
   "source": [
    "RR.groupby('Country').size()"
   ]
  },
  {
   "cell_type": "markdown",
   "metadata": {},
   "source": [
    "## Bins"
   ]
  },
  {
   "cell_type": "code",
   "execution_count": 3,
   "metadata": {},
   "outputs": [],
   "source": [
    "bins = [\"0-30%\",\"30-60%\",\"60-90%\",\"Above 90%\"]\n",
    "RR['dgcat'] = np.digitize(RR.debtgdp, [0,30,60,90,np.inf]) - 1\n",
    "RR.dgcat = [bins[x] for x in RR.dgcat]\n",
    "\n",
    "bins = [\"0-30%\",\"30-60%\",\"60-90%\",\"90-120%\",\"Above 120%\"]\n",
    "RR['dgcat2'] = np.digitize(RR.debtgdp, [0,30,60,90,120,np.inf]) - 1\n",
    "RR.dgcat2 = [bins[x] for x in RR.dgcat2]"
   ]
  },
  {
   "cell_type": "markdown",
   "metadata": {},
   "source": [
    "## Regression analysis "
   ]
  },
  {
   "cell_type": "code",
   "execution_count": 6,
   "metadata": {},
   "outputs": [
    {
     "data": {
      "text/html": [
       "<table class=\"simpletable\">\n",
       "<caption>OLS Regression Results</caption>\n",
       "<tr>\n",
       "  <th>Dep. Variable:</th>          <td>dRGDP</td>      <th>  R-squared:         </th> <td>   0.045</td>\n",
       "</tr>\n",
       "<tr>\n",
       "  <th>Model:</th>                   <td>OLS</td>       <th>  Adj. R-squared:    </th> <td>   0.042</td>\n",
       "</tr>\n",
       "<tr>\n",
       "  <th>Method:</th>             <td>Least Squares</td>  <th>  F-statistic:       </th> <td>   18.36</td>\n",
       "</tr>\n",
       "<tr>\n",
       "  <th>Date:</th>             <td>Thu, 30 Nov 2017</td> <th>  Prob (F-statistic):</th> <td>1.22e-11</td>\n",
       "</tr>\n",
       "<tr>\n",
       "  <th>Time:</th>                 <td>01:38:49</td>     <th>  Log-Likelihood:    </th> <td> -2927.9</td>\n",
       "</tr>\n",
       "<tr>\n",
       "  <th>No. Observations:</th>      <td>  1175</td>      <th>  AIC:               </th> <td>   5864.</td>\n",
       "</tr>\n",
       "<tr>\n",
       "  <th>Df Residuals:</th>          <td>  1171</td>      <th>  BIC:               </th> <td>   5884.</td>\n",
       "</tr>\n",
       "<tr>\n",
       "  <th>Df Model:</th>              <td>     3</td>      <th>                     </th>     <td> </td>   \n",
       "</tr>\n",
       "<tr>\n",
       "  <th>Covariance Type:</th>      <td>nonrobust</td>    <th>                     </th>     <td> </td>   \n",
       "</tr>\n",
       "</table>\n",
       "<table class=\"simpletable\">\n",
       "<tr>\n",
       "           <td></td>             <th>coef</th>     <th>std err</th>      <th>t</th>      <th>P>|t|</th>  <th>[0.025</th>    <th>0.975]</th>  \n",
       "</tr>\n",
       "<tr>\n",
       "  <th>Intercept</th>          <td>    4.1735</td> <td>    0.142</td> <td>   29.413</td> <td> 0.000</td> <td>    3.895</td> <td>    4.452</td>\n",
       "</tr>\n",
       "<tr>\n",
       "  <th>dgcat[T.30-60%]</th>    <td>   -1.0814</td> <td>    0.199</td> <td>   -5.429</td> <td> 0.000</td> <td>   -1.472</td> <td>   -0.691</td>\n",
       "</tr>\n",
       "<tr>\n",
       "  <th>dgcat[T.60-90%]</th>    <td>   -0.9869</td> <td>    0.251</td> <td>   -3.931</td> <td> 0.000</td> <td>   -1.479</td> <td>   -0.494</td>\n",
       "</tr>\n",
       "<tr>\n",
       "  <th>dgcat[T.Above 90%]</th> <td>   -2.0056</td> <td>    0.313</td> <td>   -6.403</td> <td> 0.000</td> <td>   -2.620</td> <td>   -1.391</td>\n",
       "</tr>\n",
       "</table>\n",
       "<table class=\"simpletable\">\n",
       "<tr>\n",
       "  <th>Omnibus:</th>       <td>208.322</td> <th>  Durbin-Watson:     </th> <td>   1.385</td>\n",
       "</tr>\n",
       "<tr>\n",
       "  <th>Prob(Omnibus):</th> <td> 0.000</td>  <th>  Jarque-Bera (JB):  </th> <td>1757.480</td>\n",
       "</tr>\n",
       "<tr>\n",
       "  <th>Skew:</th>          <td> 0.558</td>  <th>  Prob(JB):          </th> <td>    0.00</td>\n",
       "</tr>\n",
       "<tr>\n",
       "  <th>Kurtosis:</th>      <td> 8.887</td>  <th>  Cond. No.          </th> <td>    4.57</td>\n",
       "</tr>\n",
       "</table>"
      ],
      "text/plain": [
       "<class 'statsmodels.iolib.summary.Summary'>\n",
       "\"\"\"\n",
       "                            OLS Regression Results                            \n",
       "==============================================================================\n",
       "Dep. Variable:                  dRGDP   R-squared:                       0.045\n",
       "Model:                            OLS   Adj. R-squared:                  0.042\n",
       "Method:                 Least Squares   F-statistic:                     18.36\n",
       "Date:                Thu, 30 Nov 2017   Prob (F-statistic):           1.22e-11\n",
       "Time:                        01:38:49   Log-Likelihood:                -2927.9\n",
       "No. Observations:                1175   AIC:                             5864.\n",
       "Df Residuals:                    1171   BIC:                             5884.\n",
       "Df Model:                           3                                         \n",
       "Covariance Type:            nonrobust                                         \n",
       "======================================================================================\n",
       "                         coef    std err          t      P>|t|      [0.025      0.975]\n",
       "--------------------------------------------------------------------------------------\n",
       "Intercept              4.1735      0.142     29.413      0.000       3.895       4.452\n",
       "dgcat[T.30-60%]       -1.0814      0.199     -5.429      0.000      -1.472      -0.691\n",
       "dgcat[T.60-90%]       -0.9869      0.251     -3.931      0.000      -1.479      -0.494\n",
       "dgcat[T.Above 90%]    -2.0056      0.313     -6.403      0.000      -2.620      -1.391\n",
       "==============================================================================\n",
       "Omnibus:                      208.322   Durbin-Watson:                   1.385\n",
       "Prob(Omnibus):                  0.000   Jarque-Bera (JB):             1757.480\n",
       "Skew:                           0.558   Prob(JB):                         0.00\n",
       "Kurtosis:                       8.887   Cond. No.                         4.57\n",
       "==============================================================================\n",
       "\n",
       "Warnings:\n",
       "[1] Standard Errors assume that the covariance matrix of the errors is correctly specified.\n",
       "\"\"\""
      ]
     },
     "execution_count": 6,
     "metadata": {},
     "output_type": "execute_result"
    }
   ],
   "source": [
    "y,X = patsy.dmatrices('dRGDP ~ dgcat', data=RR[['dRGDP', 'dgcat']].dropna())\n",
    "sm.OLS(y,X).fit().summary()"
   ]
  },
  {
   "cell_type": "code",
   "execution_count": 7,
   "metadata": {},
   "outputs": [
    {
     "data": {
      "text/html": [
       "<table class=\"simpletable\">\n",
       "<caption>OLS Regression Results</caption>\n",
       "<tr>\n",
       "  <th>Dep. Variable:</th>          <td>dRGDP</td>      <th>  R-squared:         </th> <td>   0.046</td>\n",
       "</tr>\n",
       "<tr>\n",
       "  <th>Model:</th>                   <td>OLS</td>       <th>  Adj. R-squared:    </th> <td>   0.043</td>\n",
       "</tr>\n",
       "<tr>\n",
       "  <th>Method:</th>             <td>Least Squares</td>  <th>  F-statistic:       </th> <td>   14.24</td>\n",
       "</tr>\n",
       "<tr>\n",
       "  <th>Date:</th>             <td>Thu, 30 Nov 2017</td> <th>  Prob (F-statistic):</th> <td>2.36e-11</td>\n",
       "</tr>\n",
       "<tr>\n",
       "  <th>Time:</th>                 <td>01:38:54</td>     <th>  Log-Likelihood:    </th> <td> -2926.9</td>\n",
       "</tr>\n",
       "<tr>\n",
       "  <th>No. Observations:</th>      <td>  1175</td>      <th>  AIC:               </th> <td>   5864.</td>\n",
       "</tr>\n",
       "<tr>\n",
       "  <th>Df Residuals:</th>          <td>  1170</td>      <th>  BIC:               </th> <td>   5889.</td>\n",
       "</tr>\n",
       "<tr>\n",
       "  <th>Df Model:</th>              <td>     4</td>      <th>                     </th>     <td> </td>   \n",
       "</tr>\n",
       "<tr>\n",
       "  <th>Covariance Type:</th>      <td>nonrobust</td>    <th>                     </th>     <td> </td>   \n",
       "</tr>\n",
       "</table>\n",
       "<table class=\"simpletable\">\n",
       "<tr>\n",
       "            <td></td>              <th>coef</th>     <th>std err</th>      <th>t</th>      <th>P>|t|</th>  <th>[0.025</th>    <th>0.975]</th>  \n",
       "</tr>\n",
       "<tr>\n",
       "  <th>Intercept</th>            <td>    4.1735</td> <td>    0.142</td> <td>   29.423</td> <td> 0.000</td> <td>    3.895</td> <td>    4.452</td>\n",
       "</tr>\n",
       "<tr>\n",
       "  <th>dgcat2[T.30-60%]</th>     <td>   -1.0814</td> <td>    0.199</td> <td>   -5.431</td> <td> 0.000</td> <td>   -1.472</td> <td>   -0.691</td>\n",
       "</tr>\n",
       "<tr>\n",
       "  <th>dgcat2[T.60-90%]</th>     <td>   -0.9869</td> <td>    0.251</td> <td>   -3.933</td> <td> 0.000</td> <td>   -1.479</td> <td>   -0.495</td>\n",
       "</tr>\n",
       "<tr>\n",
       "  <th>dgcat2[T.90-120%]</th>    <td>   -1.7676</td> <td>    0.359</td> <td>   -4.929</td> <td> 0.000</td> <td>   -2.471</td> <td>   -1.064</td>\n",
       "</tr>\n",
       "<tr>\n",
       "  <th>dgcat2[T.Above 120%]</th> <td>   -2.6120</td> <td>    0.545</td> <td>   -4.796</td> <td> 0.000</td> <td>   -3.680</td> <td>   -1.543</td>\n",
       "</tr>\n",
       "</table>\n",
       "<table class=\"simpletable\">\n",
       "<tr>\n",
       "  <th>Omnibus:</th>       <td>210.356</td> <th>  Durbin-Watson:     </th> <td>   1.388</td>\n",
       "</tr>\n",
       "<tr>\n",
       "  <th>Prob(Omnibus):</th> <td> 0.000</td>  <th>  Jarque-Bera (JB):  </th> <td>1756.317</td>\n",
       "</tr>\n",
       "<tr>\n",
       "  <th>Skew:</th>          <td> 0.570</td>  <th>  Prob(JB):          </th> <td>    0.00</td>\n",
       "</tr>\n",
       "<tr>\n",
       "  <th>Kurtosis:</th>      <td> 8.880</td>  <th>  Cond. No.          </th> <td>    7.10</td>\n",
       "</tr>\n",
       "</table>"
      ],
      "text/plain": [
       "<class 'statsmodels.iolib.summary.Summary'>\n",
       "\"\"\"\n",
       "                            OLS Regression Results                            \n",
       "==============================================================================\n",
       "Dep. Variable:                  dRGDP   R-squared:                       0.046\n",
       "Model:                            OLS   Adj. R-squared:                  0.043\n",
       "Method:                 Least Squares   F-statistic:                     14.24\n",
       "Date:                Thu, 30 Nov 2017   Prob (F-statistic):           2.36e-11\n",
       "Time:                        01:38:54   Log-Likelihood:                -2926.9\n",
       "No. Observations:                1175   AIC:                             5864.\n",
       "Df Residuals:                    1170   BIC:                             5889.\n",
       "Df Model:                           4                                         \n",
       "Covariance Type:            nonrobust                                         \n",
       "========================================================================================\n",
       "                           coef    std err          t      P>|t|      [0.025      0.975]\n",
       "----------------------------------------------------------------------------------------\n",
       "Intercept                4.1735      0.142     29.423      0.000       3.895       4.452\n",
       "dgcat2[T.30-60%]        -1.0814      0.199     -5.431      0.000      -1.472      -0.691\n",
       "dgcat2[T.60-90%]        -0.9869      0.251     -3.933      0.000      -1.479      -0.495\n",
       "dgcat2[T.90-120%]       -1.7676      0.359     -4.929      0.000      -2.471      -1.064\n",
       "dgcat2[T.Above 120%]    -2.6120      0.545     -4.796      0.000      -3.680      -1.543\n",
       "==============================================================================\n",
       "Omnibus:                      210.356   Durbin-Watson:                   1.388\n",
       "Prob(Omnibus):                  0.000   Jarque-Bera (JB):             1756.317\n",
       "Skew:                           0.570   Prob(JB):                         0.00\n",
       "Kurtosis:                       8.880   Cond. No.                         7.10\n",
       "==============================================================================\n",
       "\n",
       "Warnings:\n",
       "[1] Standard Errors assume that the covariance matrix of the errors is correctly specified.\n",
       "\"\"\""
      ]
     },
     "execution_count": 7,
     "metadata": {},
     "output_type": "execute_result"
    }
   ],
   "source": [
    "y2,X2 = patsy.dmatrices('dRGDP ~ dgcat2', data=RR[['dRGDP', 'dgcat2']].dropna())\n",
    "sm.OLS(y2,X2).fit().summary()"
   ]
  },
  {
   "cell_type": "markdown",
   "metadata": {},
   "source": [
    "## Table 3 Corrected"
   ]
  },
  {
   "cell_type": "code",
   "execution_count": 8,
   "metadata": {},
   "outputs": [
    {
     "data": {
      "text/plain": [
       "dgcat\n",
       "0-30%        4.173523\n",
       "30-60%       3.092145\n",
       "60-90%       3.186575\n",
       "Above 90%    2.167972\n",
       "Name: dRGDP, dtype: float64"
      ]
     },
     "execution_count": 8,
     "metadata": {},
     "output_type": "execute_result"
    }
   ],
   "source": [
    "## Country-Year average by debtgdp (\"correct weights\")\n",
    "RR.dRGDP.groupby(RR.dgcat).mean()"
   ]
  },
  {
   "cell_type": "code",
   "execution_count": 9,
   "metadata": {},
   "outputs": [
    {
     "data": {
      "text/html": [
       "<div>\n",
       "<style scoped>\n",
       "    .dataframe tbody tr th:only-of-type {\n",
       "        vertical-align: middle;\n",
       "    }\n",
       "\n",
       "    .dataframe tbody tr th {\n",
       "        vertical-align: top;\n",
       "    }\n",
       "\n",
       "    .dataframe thead th {\n",
       "        text-align: right;\n",
       "    }\n",
       "</style>\n",
       "<table border=\"1\" class=\"dataframe\">\n",
       "  <thead>\n",
       "    <tr style=\"text-align: right;\">\n",
       "      <th>dgcat</th>\n",
       "      <th>0-30%</th>\n",
       "      <th>30-60%</th>\n",
       "      <th>60-90%</th>\n",
       "      <th>Above 90%</th>\n",
       "    </tr>\n",
       "    <tr>\n",
       "      <th>Country</th>\n",
       "      <th></th>\n",
       "      <th></th>\n",
       "      <th></th>\n",
       "      <th></th>\n",
       "    </tr>\n",
       "  </thead>\n",
       "  <tbody>\n",
       "    <tr>\n",
       "      <th>Australia</th>\n",
       "      <td>3.205885</td>\n",
       "      <td>4.947205</td>\n",
       "      <td>4.042175</td>\n",
       "      <td>3.774250</td>\n",
       "    </tr>\n",
       "    <tr>\n",
       "      <th>Austria</th>\n",
       "      <td>5.207527</td>\n",
       "      <td>3.256526</td>\n",
       "      <td>-3.824000</td>\n",
       "      <td>NaN</td>\n",
       "    </tr>\n",
       "    <tr>\n",
       "      <th>Belgium</th>\n",
       "      <td>NaN</td>\n",
       "      <td>4.191655</td>\n",
       "      <td>3.079868</td>\n",
       "      <td>2.566828</td>\n",
       "    </tr>\n",
       "    <tr>\n",
       "      <th>Canada</th>\n",
       "      <td>2.515704</td>\n",
       "      <td>3.525446</td>\n",
       "      <td>4.523574</td>\n",
       "      <td>2.956640</td>\n",
       "    </tr>\n",
       "    <tr>\n",
       "      <th>Denmark</th>\n",
       "      <td>3.518584</td>\n",
       "      <td>1.700034</td>\n",
       "      <td>2.391147</td>\n",
       "      <td>NaN</td>\n",
       "    </tr>\n",
       "    <tr>\n",
       "      <th>Finland</th>\n",
       "      <td>3.817029</td>\n",
       "      <td>2.418535</td>\n",
       "      <td>5.488887</td>\n",
       "      <td>NaN</td>\n",
       "    </tr>\n",
       "    <tr>\n",
       "      <th>France</th>\n",
       "      <td>5.058476</td>\n",
       "      <td>2.616159</td>\n",
       "      <td>3.019631</td>\n",
       "      <td>NaN</td>\n",
       "    </tr>\n",
       "    <tr>\n",
       "      <th>Germany</th>\n",
       "      <td>3.873759</td>\n",
       "      <td>0.875803</td>\n",
       "      <td>NaN</td>\n",
       "      <td>NaN</td>\n",
       "    </tr>\n",
       "    <tr>\n",
       "      <th>Greece</th>\n",
       "      <td>4.001282</td>\n",
       "      <td>0.340200</td>\n",
       "      <td>2.696000</td>\n",
       "      <td>2.910632</td>\n",
       "    </tr>\n",
       "    <tr>\n",
       "      <th>Ireland</th>\n",
       "      <td>4.209251</td>\n",
       "      <td>4.452167</td>\n",
       "      <td>3.950139</td>\n",
       "      <td>2.428571</td>\n",
       "    </tr>\n",
       "    <tr>\n",
       "      <th>Italy</th>\n",
       "      <td>5.352632</td>\n",
       "      <td>2.054284</td>\n",
       "      <td>1.771529</td>\n",
       "      <td>1.028900</td>\n",
       "    </tr>\n",
       "    <tr>\n",
       "      <th>Japan</th>\n",
       "      <td>7.331001</td>\n",
       "      <td>3.957143</td>\n",
       "      <td>1.008411</td>\n",
       "      <td>0.687258</td>\n",
       "    </tr>\n",
       "    <tr>\n",
       "      <th>Netherlands</th>\n",
       "      <td>4.082614</td>\n",
       "      <td>2.620772</td>\n",
       "      <td>1.070436</td>\n",
       "      <td>NaN</td>\n",
       "    </tr>\n",
       "    <tr>\n",
       "      <th>New Zealand</th>\n",
       "      <td>2.465556</td>\n",
       "      <td>2.889572</td>\n",
       "      <td>3.883683</td>\n",
       "      <td>2.574727</td>\n",
       "    </tr>\n",
       "    <tr>\n",
       "      <th>Norway</th>\n",
       "      <td>3.400122</td>\n",
       "      <td>5.108289</td>\n",
       "      <td>10.201270</td>\n",
       "      <td>NaN</td>\n",
       "    </tr>\n",
       "    <tr>\n",
       "      <th>Portugal</th>\n",
       "      <td>4.451419</td>\n",
       "      <td>3.549482</td>\n",
       "      <td>1.893899</td>\n",
       "      <td>NaN</td>\n",
       "    </tr>\n",
       "    <tr>\n",
       "      <th>Spain</th>\n",
       "      <td>1.549332</td>\n",
       "      <td>3.398669</td>\n",
       "      <td>4.156250</td>\n",
       "      <td>NaN</td>\n",
       "    </tr>\n",
       "    <tr>\n",
       "      <th>Sweden</th>\n",
       "      <td>3.567385</td>\n",
       "      <td>2.932237</td>\n",
       "      <td>2.665824</td>\n",
       "      <td>NaN</td>\n",
       "    </tr>\n",
       "    <tr>\n",
       "      <th>UK</th>\n",
       "      <td>NaN</td>\n",
       "      <td>2.231213</td>\n",
       "      <td>2.522133</td>\n",
       "      <td>2.399096</td>\n",
       "    </tr>\n",
       "    <tr>\n",
       "      <th>US</th>\n",
       "      <td>NaN</td>\n",
       "      <td>3.370208</td>\n",
       "      <td>3.264068</td>\n",
       "      <td>-1.988893</td>\n",
       "    </tr>\n",
       "  </tbody>\n",
       "</table>\n",
       "</div>"
      ],
      "text/plain": [
       "dgcat           0-30%    30-60%     60-90%  Above 90%\n",
       "Country                                              \n",
       "Australia    3.205885  4.947205   4.042175   3.774250\n",
       "Austria      5.207527  3.256526  -3.824000        NaN\n",
       "Belgium           NaN  4.191655   3.079868   2.566828\n",
       "Canada       2.515704  3.525446   4.523574   2.956640\n",
       "Denmark      3.518584  1.700034   2.391147        NaN\n",
       "Finland      3.817029  2.418535   5.488887        NaN\n",
       "France       5.058476  2.616159   3.019631        NaN\n",
       "Germany      3.873759  0.875803        NaN        NaN\n",
       "Greece       4.001282  0.340200   2.696000   2.910632\n",
       "Ireland      4.209251  4.452167   3.950139   2.428571\n",
       "Italy        5.352632  2.054284   1.771529   1.028900\n",
       "Japan        7.331001  3.957143   1.008411   0.687258\n",
       "Netherlands  4.082614  2.620772   1.070436        NaN\n",
       "New Zealand  2.465556  2.889572   3.883683   2.574727\n",
       "Norway       3.400122  5.108289  10.201270        NaN\n",
       "Portugal     4.451419  3.549482   1.893899        NaN\n",
       "Spain        1.549332  3.398669   4.156250        NaN\n",
       "Sweden       3.567385  2.932237   2.665824        NaN\n",
       "UK                NaN  2.231213   2.522133   2.399096\n",
       "US                NaN  3.370208   3.264068  -1.988893"
      ]
     },
     "execution_count": 9,
     "metadata": {},
     "output_type": "execute_result"
    }
   ],
   "source": [
    "## Averaged Country averages by debtgdp (\"equal weights\")\n",
    "RR.dRGDP.groupby([RR.Country, RR.dgcat]).mean().unstack()"
   ]
  },
  {
   "cell_type": "code",
   "execution_count": 10,
   "metadata": {},
   "outputs": [
    {
     "data": {
      "text/plain": [
       "dgcat2\n",
       "0-30%         4.173523\n",
       "30-60%        3.092145\n",
       "60-90%        3.186575\n",
       "90-120%       2.405934\n",
       "Above 120%    1.561553\n",
       "Name: dRGDP, dtype: float64"
      ]
     },
     "execution_count": 10,
     "metadata": {},
     "output_type": "execute_result"
    }
   ],
   "source": [
    "## Country-Year average by debtgdp (\"correct weights\") expanded categories\n",
    "RR.dRGDP.groupby(RR.dgcat2).mean()"
   ]
  },
  {
   "cell_type": "code",
   "execution_count": 11,
   "metadata": {},
   "outputs": [
    {
     "data": {
      "text/html": [
       "<div>\n",
       "<style scoped>\n",
       "    .dataframe tbody tr th:only-of-type {\n",
       "        vertical-align: middle;\n",
       "    }\n",
       "\n",
       "    .dataframe tbody tr th {\n",
       "        vertical-align: top;\n",
       "    }\n",
       "\n",
       "    .dataframe thead th {\n",
       "        text-align: right;\n",
       "    }\n",
       "</style>\n",
       "<table border=\"1\" class=\"dataframe\">\n",
       "  <thead>\n",
       "    <tr style=\"text-align: right;\">\n",
       "      <th>dgcat2</th>\n",
       "      <th>0-30%</th>\n",
       "      <th>30-60%</th>\n",
       "      <th>60-90%</th>\n",
       "      <th>90-120%</th>\n",
       "      <th>Above 120%</th>\n",
       "    </tr>\n",
       "    <tr>\n",
       "      <th>Country</th>\n",
       "      <th></th>\n",
       "      <th></th>\n",
       "      <th></th>\n",
       "      <th></th>\n",
       "      <th></th>\n",
       "    </tr>\n",
       "  </thead>\n",
       "  <tbody>\n",
       "    <tr>\n",
       "      <th>Australia</th>\n",
       "      <td>3.205885</td>\n",
       "      <td>4.947205</td>\n",
       "      <td>4.042175</td>\n",
       "      <td>6.920201</td>\n",
       "      <td>2.987763</td>\n",
       "    </tr>\n",
       "    <tr>\n",
       "      <th>Austria</th>\n",
       "      <td>5.207527</td>\n",
       "      <td>3.256526</td>\n",
       "      <td>-3.824000</td>\n",
       "      <td>NaN</td>\n",
       "      <td>NaN</td>\n",
       "    </tr>\n",
       "    <tr>\n",
       "      <th>Belgium</th>\n",
       "      <td>NaN</td>\n",
       "      <td>4.191655</td>\n",
       "      <td>3.079868</td>\n",
       "      <td>2.702629</td>\n",
       "      <td>-0.692378</td>\n",
       "    </tr>\n",
       "    <tr>\n",
       "      <th>Canada</th>\n",
       "      <td>2.515704</td>\n",
       "      <td>3.525446</td>\n",
       "      <td>4.523574</td>\n",
       "      <td>4.544839</td>\n",
       "      <td>0.574341</td>\n",
       "    </tr>\n",
       "    <tr>\n",
       "      <th>Denmark</th>\n",
       "      <td>3.518584</td>\n",
       "      <td>1.700034</td>\n",
       "      <td>2.391147</td>\n",
       "      <td>NaN</td>\n",
       "      <td>NaN</td>\n",
       "    </tr>\n",
       "    <tr>\n",
       "      <th>Finland</th>\n",
       "      <td>3.817029</td>\n",
       "      <td>2.418535</td>\n",
       "      <td>5.488887</td>\n",
       "      <td>NaN</td>\n",
       "      <td>NaN</td>\n",
       "    </tr>\n",
       "    <tr>\n",
       "      <th>France</th>\n",
       "      <td>5.058476</td>\n",
       "      <td>2.616159</td>\n",
       "      <td>3.019631</td>\n",
       "      <td>NaN</td>\n",
       "      <td>NaN</td>\n",
       "    </tr>\n",
       "    <tr>\n",
       "      <th>Germany</th>\n",
       "      <td>3.873759</td>\n",
       "      <td>0.875803</td>\n",
       "      <td>NaN</td>\n",
       "      <td>NaN</td>\n",
       "      <td>NaN</td>\n",
       "    </tr>\n",
       "    <tr>\n",
       "      <th>Greece</th>\n",
       "      <td>4.001282</td>\n",
       "      <td>0.340200</td>\n",
       "      <td>2.696000</td>\n",
       "      <td>2.910632</td>\n",
       "      <td>NaN</td>\n",
       "    </tr>\n",
       "    <tr>\n",
       "      <th>Ireland</th>\n",
       "      <td>4.209251</td>\n",
       "      <td>4.452167</td>\n",
       "      <td>3.950139</td>\n",
       "      <td>2.428571</td>\n",
       "      <td>NaN</td>\n",
       "    </tr>\n",
       "    <tr>\n",
       "      <th>Italy</th>\n",
       "      <td>5.352632</td>\n",
       "      <td>2.054284</td>\n",
       "      <td>1.771529</td>\n",
       "      <td>1.028900</td>\n",
       "      <td>NaN</td>\n",
       "    </tr>\n",
       "    <tr>\n",
       "      <th>Japan</th>\n",
       "      <td>7.331001</td>\n",
       "      <td>3.957143</td>\n",
       "      <td>1.008411</td>\n",
       "      <td>1.359564</td>\n",
       "      <td>0.537857</td>\n",
       "    </tr>\n",
       "    <tr>\n",
       "      <th>Netherlands</th>\n",
       "      <td>4.082614</td>\n",
       "      <td>2.620772</td>\n",
       "      <td>1.070436</td>\n",
       "      <td>NaN</td>\n",
       "      <td>NaN</td>\n",
       "    </tr>\n",
       "    <tr>\n",
       "      <th>New Zealand</th>\n",
       "      <td>2.465556</td>\n",
       "      <td>2.889572</td>\n",
       "      <td>3.883683</td>\n",
       "      <td>-2.256588</td>\n",
       "      <td>9.821699</td>\n",
       "    </tr>\n",
       "    <tr>\n",
       "      <th>Norway</th>\n",
       "      <td>3.400122</td>\n",
       "      <td>5.108289</td>\n",
       "      <td>10.201270</td>\n",
       "      <td>NaN</td>\n",
       "      <td>NaN</td>\n",
       "    </tr>\n",
       "    <tr>\n",
       "      <th>Portugal</th>\n",
       "      <td>4.451419</td>\n",
       "      <td>3.549482</td>\n",
       "      <td>1.893899</td>\n",
       "      <td>NaN</td>\n",
       "      <td>NaN</td>\n",
       "    </tr>\n",
       "    <tr>\n",
       "      <th>Spain</th>\n",
       "      <td>1.549332</td>\n",
       "      <td>3.398669</td>\n",
       "      <td>4.156250</td>\n",
       "      <td>NaN</td>\n",
       "      <td>NaN</td>\n",
       "    </tr>\n",
       "    <tr>\n",
       "      <th>Sweden</th>\n",
       "      <td>3.567385</td>\n",
       "      <td>2.932237</td>\n",
       "      <td>2.665824</td>\n",
       "      <td>NaN</td>\n",
       "      <td>NaN</td>\n",
       "    </tr>\n",
       "    <tr>\n",
       "      <th>UK</th>\n",
       "      <td>NaN</td>\n",
       "      <td>2.231213</td>\n",
       "      <td>2.522133</td>\n",
       "      <td>3.303428</td>\n",
       "      <td>1.871568</td>\n",
       "    </tr>\n",
       "    <tr>\n",
       "      <th>US</th>\n",
       "      <td>NaN</td>\n",
       "      <td>3.370208</td>\n",
       "      <td>3.264068</td>\n",
       "      <td>0.995529</td>\n",
       "      <td>-10.942159</td>\n",
       "    </tr>\n",
       "  </tbody>\n",
       "</table>\n",
       "</div>"
      ],
      "text/plain": [
       "dgcat2          0-30%    30-60%     60-90%   90-120%  Above 120%\n",
       "Country                                                         \n",
       "Australia    3.205885  4.947205   4.042175  6.920201    2.987763\n",
       "Austria      5.207527  3.256526  -3.824000       NaN         NaN\n",
       "Belgium           NaN  4.191655   3.079868  2.702629   -0.692378\n",
       "Canada       2.515704  3.525446   4.523574  4.544839    0.574341\n",
       "Denmark      3.518584  1.700034   2.391147       NaN         NaN\n",
       "Finland      3.817029  2.418535   5.488887       NaN         NaN\n",
       "France       5.058476  2.616159   3.019631       NaN         NaN\n",
       "Germany      3.873759  0.875803        NaN       NaN         NaN\n",
       "Greece       4.001282  0.340200   2.696000  2.910632         NaN\n",
       "Ireland      4.209251  4.452167   3.950139  2.428571         NaN\n",
       "Italy        5.352632  2.054284   1.771529  1.028900         NaN\n",
       "Japan        7.331001  3.957143   1.008411  1.359564    0.537857\n",
       "Netherlands  4.082614  2.620772   1.070436       NaN         NaN\n",
       "New Zealand  2.465556  2.889572   3.883683 -2.256588    9.821699\n",
       "Norway       3.400122  5.108289  10.201270       NaN         NaN\n",
       "Portugal     4.451419  3.549482   1.893899       NaN         NaN\n",
       "Spain        1.549332  3.398669   4.156250       NaN         NaN\n",
       "Sweden       3.567385  2.932237   2.665824       NaN         NaN\n",
       "UK                NaN  2.231213   2.522133  3.303428    1.871568\n",
       "US                NaN  3.370208   3.264068  0.995529  -10.942159"
      ]
     },
     "execution_count": 11,
     "metadata": {},
     "output_type": "execute_result"
    }
   ],
   "source": [
    "## Averaged Country averages by debtgdp (\"equal weights\")\n",
    "RR.dRGDP.groupby([RR.Country, RR.dgcat2]).mean().unstack()"
   ]
  },
  {
   "cell_type": "markdown",
   "metadata": {},
   "source": [
    "## Selective treatment of early years"
   ]
  },
  {
   "cell_type": "code",
   "execution_count": 12,
   "metadata": {},
   "outputs": [
    {
     "data": {
      "text/plain": [
       "dgcat\n",
       "0-30%        4.173523\n",
       "30-60%       3.092145\n",
       "60-90%       3.186575\n",
       "Above 90%    1.919934\n",
       "Name: dRGDP, dtype: float64"
      ]
     },
     "execution_count": 12,
     "metadata": {},
     "output_type": "execute_result"
    }
   ],
   "source": [
    "idx = (RR.Country == 'New Zealand') & (RR.Year < 1950) | (RR.Country == 'Australia') & (RR.Year < 1951) | (RR.Country == 'Canada') & (RR.Year < 1951) \n",
    "RR_selective = RR[idx == False]\n",
    "RR_selective.dRGDP.groupby(RR_selective.dgcat).mean()"
   ]
  },
  {
   "cell_type": "markdown",
   "metadata": {},
   "source": [
    "## Equal weights\n",
    "## Table 3 Weights,Exclusion"
   ]
  },
  {
   "cell_type": "code",
   "execution_count": 13,
   "metadata": {},
   "outputs": [
    {
     "data": {
      "text/plain": [
       "Unnamed: 0    5.916408e+02\n",
       "Year          1.979633e+03\n",
       "Debt          1.621458e+07\n",
       "RGDP          2.369173e+05\n",
       "GDP           1.957611e+05\n",
       "dRGDP         3.408270e+00\n",
       "GDPI          5.034180e+01\n",
       "GDP1          1.470725e+07\n",
       "GDP2          1.824865e+07\n",
       "RGDP1         1.425590e+07\n",
       "RGDP2         3.072470e+07\n",
       "GDPI1         5.589542e+02\n",
       "GDPI2         8.690705e+01\n",
       "Infl          5.632643e+00\n",
       "Debt1         5.625405e+05\n",
       "Debt2         1.050730e+05\n",
       "Debtalt       1.006665e+07\n",
       "GDP2alt       4.450790e+05\n",
       "GDPalt        2.079659e+06\n",
       "RGDP2alt      1.033331e+05\n",
       "debtgdp       4.530375e+01\n",
       "GDP3          7.689113e+04\n",
       "GNI           5.156239e+08\n",
       "lRGDP         2.351587e+05\n",
       "lRGDP1        1.405853e+07\n",
       "lRGDP2        3.047113e+07\n",
       "dtype: float64"
      ]
     },
     "execution_count": 13,
     "metadata": {},
     "output_type": "execute_result"
    }
   ],
   "source": [
    "RR_selective.mean()"
   ]
  },
  {
   "cell_type": "markdown",
   "metadata": {},
   "source": [
    "## Correct weights\n",
    "## Table 3 Selective years exclusion"
   ]
  },
  {
   "cell_type": "code",
   "execution_count": 14,
   "metadata": {},
   "outputs": [
    {
     "data": {
      "text/html": [
       "<div>\n",
       "<style scoped>\n",
       "    .dataframe tbody tr th:only-of-type {\n",
       "        vertical-align: middle;\n",
       "    }\n",
       "\n",
       "    .dataframe tbody tr th {\n",
       "        vertical-align: top;\n",
       "    }\n",
       "\n",
       "    .dataframe thead th {\n",
       "        text-align: right;\n",
       "    }\n",
       "</style>\n",
       "<table border=\"1\" class=\"dataframe\">\n",
       "  <thead>\n",
       "    <tr style=\"text-align: right;\">\n",
       "      <th>dgcat</th>\n",
       "      <th>0-30%</th>\n",
       "      <th>30-60%</th>\n",
       "      <th>60-90%</th>\n",
       "      <th>Above 90%</th>\n",
       "    </tr>\n",
       "    <tr>\n",
       "      <th>Country</th>\n",
       "      <th></th>\n",
       "      <th></th>\n",
       "      <th></th>\n",
       "      <th></th>\n",
       "    </tr>\n",
       "  </thead>\n",
       "  <tbody>\n",
       "    <tr>\n",
       "      <th>Australia</th>\n",
       "      <td>3.205885</td>\n",
       "      <td>4.947205</td>\n",
       "      <td>4.042175</td>\n",
       "      <td>NaN</td>\n",
       "    </tr>\n",
       "    <tr>\n",
       "      <th>Austria</th>\n",
       "      <td>5.207527</td>\n",
       "      <td>3.256526</td>\n",
       "      <td>-3.824000</td>\n",
       "      <td>NaN</td>\n",
       "    </tr>\n",
       "    <tr>\n",
       "      <th>Belgium</th>\n",
       "      <td>NaN</td>\n",
       "      <td>4.191655</td>\n",
       "      <td>3.079868</td>\n",
       "      <td>2.566828</td>\n",
       "    </tr>\n",
       "    <tr>\n",
       "      <th>Canada</th>\n",
       "      <td>2.515704</td>\n",
       "      <td>3.525446</td>\n",
       "      <td>4.523574</td>\n",
       "      <td>NaN</td>\n",
       "    </tr>\n",
       "    <tr>\n",
       "      <th>Denmark</th>\n",
       "      <td>3.518584</td>\n",
       "      <td>1.700034</td>\n",
       "      <td>2.391147</td>\n",
       "      <td>NaN</td>\n",
       "    </tr>\n",
       "    <tr>\n",
       "      <th>Finland</th>\n",
       "      <td>3.817029</td>\n",
       "      <td>2.418535</td>\n",
       "      <td>5.488887</td>\n",
       "      <td>NaN</td>\n",
       "    </tr>\n",
       "    <tr>\n",
       "      <th>France</th>\n",
       "      <td>5.058476</td>\n",
       "      <td>2.616159</td>\n",
       "      <td>3.019631</td>\n",
       "      <td>NaN</td>\n",
       "    </tr>\n",
       "    <tr>\n",
       "      <th>Germany</th>\n",
       "      <td>3.873759</td>\n",
       "      <td>0.875803</td>\n",
       "      <td>NaN</td>\n",
       "      <td>NaN</td>\n",
       "    </tr>\n",
       "    <tr>\n",
       "      <th>Greece</th>\n",
       "      <td>4.001282</td>\n",
       "      <td>0.340200</td>\n",
       "      <td>2.696000</td>\n",
       "      <td>2.910632</td>\n",
       "    </tr>\n",
       "    <tr>\n",
       "      <th>Ireland</th>\n",
       "      <td>4.209251</td>\n",
       "      <td>4.452167</td>\n",
       "      <td>3.950139</td>\n",
       "      <td>2.428571</td>\n",
       "    </tr>\n",
       "    <tr>\n",
       "      <th>Italy</th>\n",
       "      <td>5.352632</td>\n",
       "      <td>2.054284</td>\n",
       "      <td>1.771529</td>\n",
       "      <td>1.028900</td>\n",
       "    </tr>\n",
       "    <tr>\n",
       "      <th>Japan</th>\n",
       "      <td>7.331001</td>\n",
       "      <td>3.957143</td>\n",
       "      <td>1.008411</td>\n",
       "      <td>0.687258</td>\n",
       "    </tr>\n",
       "    <tr>\n",
       "      <th>Netherlands</th>\n",
       "      <td>4.082614</td>\n",
       "      <td>2.620772</td>\n",
       "      <td>1.070436</td>\n",
       "      <td>NaN</td>\n",
       "    </tr>\n",
       "    <tr>\n",
       "      <th>New Zealand</th>\n",
       "      <td>2.465556</td>\n",
       "      <td>2.889572</td>\n",
       "      <td>3.883683</td>\n",
       "      <td>-7.635102</td>\n",
       "    </tr>\n",
       "    <tr>\n",
       "      <th>Norway</th>\n",
       "      <td>3.400122</td>\n",
       "      <td>5.108289</td>\n",
       "      <td>10.201270</td>\n",
       "      <td>NaN</td>\n",
       "    </tr>\n",
       "    <tr>\n",
       "      <th>Portugal</th>\n",
       "      <td>4.451419</td>\n",
       "      <td>3.549482</td>\n",
       "      <td>1.893899</td>\n",
       "      <td>NaN</td>\n",
       "    </tr>\n",
       "    <tr>\n",
       "      <th>Spain</th>\n",
       "      <td>1.549332</td>\n",
       "      <td>3.398669</td>\n",
       "      <td>4.156250</td>\n",
       "      <td>NaN</td>\n",
       "    </tr>\n",
       "    <tr>\n",
       "      <th>Sweden</th>\n",
       "      <td>3.567385</td>\n",
       "      <td>2.932237</td>\n",
       "      <td>2.665824</td>\n",
       "      <td>NaN</td>\n",
       "    </tr>\n",
       "    <tr>\n",
       "      <th>UK</th>\n",
       "      <td>NaN</td>\n",
       "      <td>2.231213</td>\n",
       "      <td>2.522133</td>\n",
       "      <td>2.399096</td>\n",
       "    </tr>\n",
       "    <tr>\n",
       "      <th>US</th>\n",
       "      <td>NaN</td>\n",
       "      <td>3.370208</td>\n",
       "      <td>3.264068</td>\n",
       "      <td>-1.988893</td>\n",
       "    </tr>\n",
       "  </tbody>\n",
       "</table>\n",
       "</div>"
      ],
      "text/plain": [
       "dgcat           0-30%    30-60%     60-90%  Above 90%\n",
       "Country                                              \n",
       "Australia    3.205885  4.947205   4.042175        NaN\n",
       "Austria      5.207527  3.256526  -3.824000        NaN\n",
       "Belgium           NaN  4.191655   3.079868   2.566828\n",
       "Canada       2.515704  3.525446   4.523574        NaN\n",
       "Denmark      3.518584  1.700034   2.391147        NaN\n",
       "Finland      3.817029  2.418535   5.488887        NaN\n",
       "France       5.058476  2.616159   3.019631        NaN\n",
       "Germany      3.873759  0.875803        NaN        NaN\n",
       "Greece       4.001282  0.340200   2.696000   2.910632\n",
       "Ireland      4.209251  4.452167   3.950139   2.428571\n",
       "Italy        5.352632  2.054284   1.771529   1.028900\n",
       "Japan        7.331001  3.957143   1.008411   0.687258\n",
       "Netherlands  4.082614  2.620772   1.070436        NaN\n",
       "New Zealand  2.465556  2.889572   3.883683  -7.635102\n",
       "Norway       3.400122  5.108289  10.201270        NaN\n",
       "Portugal     4.451419  3.549482   1.893899        NaN\n",
       "Spain        1.549332  3.398669   4.156250        NaN\n",
       "Sweden       3.567385  2.932237   2.665824        NaN\n",
       "UK                NaN  2.231213   2.522133   2.399096\n",
       "US                NaN  3.370208   3.264068  -1.988893"
      ]
     },
     "execution_count": 14,
     "metadata": {},
     "output_type": "execute_result"
    }
   ],
   "source": [
    "RR_selective.dRGDP.groupby([RR_selective.Country, RR_selective.dgcat]).mean().unstack()"
   ]
  },
  {
   "cell_type": "markdown",
   "metadata": {},
   "source": [
    "## And dropping because of spreadsheet error"
   ]
  },
  {
   "cell_type": "code",
   "execution_count": 15,
   "metadata": {},
   "outputs": [
    {
     "data": {
      "text/plain": [
       "dgcat\n",
       "0-30%        4.236391\n",
       "30-60%       2.958902\n",
       "60-90%       3.160164\n",
       "Above 90%    1.692155\n",
       "Name: dRGDP, dtype: float64"
      ]
     },
     "execution_count": 15,
     "metadata": {},
     "output_type": "execute_result"
    }
   ],
   "source": [
    "drop = [\"Australia\",\"Austria\",\"Belgium\",\"Canada\",\"Denmark\"]\n",
    "idx = [False if x in drop else True for x in RR_selective.Country]\n",
    "RR_selective_spreadsheet = RR_selective[idx]\n",
    "RR_selective_spreadsheet.dRGDP.groupby(RR.dgcat).mean()"
   ]
  },
  {
   "cell_type": "markdown",
   "metadata": {},
   "source": [
    "## New Zealand transcription error"
   ]
  },
  {
   "cell_type": "code",
   "execution_count": 33,
   "metadata": {},
   "outputs": [
    {
     "name": "stderr",
     "output_type": "stream",
     "text": [
      "/Users/fperez/usr/conda/envs/s159/lib/python3.6/site-packages/ipykernel_launcher.py:2: SettingWithCopyWarning: \n",
      "A value is trying to be set on a copy of a slice from a DataFrame\n",
      "\n",
      "See the caveats in the documentation: http://pandas.pydata.org/pandas-docs/stable/indexing.html#indexing-view-versus-copy\n",
      "  \n"
     ]
    },
    {
     "data": {
      "text/plain": [
       "dgcat\n",
       "0-30%        4.236391\n",
       "30-60%       2.958902\n",
       "60-90%       3.160164\n",
       "Above 90%    1.692155\n",
       "Name: dRGDP, dtype: float64"
      ]
     },
     "execution_count": 33,
     "metadata": {},
     "output_type": "execute_result"
    }
   ],
   "source": [
    "RR_selective_spreadsheet_transcription = RR_selective_spreadsheet.copy()\n",
    "RR_selective_spreadsheet_transcription.RGDP[RR_selective_spreadsheet_transcription.Country=='New Zealand'] = -7.9\n",
    "RR_selective_spreadsheet_transcription.dRGDP.groupby(RR.dgcat).mean()"
   ]
  },
  {
   "cell_type": "code",
   "execution_count": 34,
   "metadata": {},
   "outputs": [
    {
     "data": {
      "text/plain": [
       "dgcat\n",
       "0-30%        4.236391\n",
       "30-60%       2.958902\n",
       "60-90%       3.160164\n",
       "Above 90%    1.692155\n",
       "Name: dRGDP, dtype: float64"
      ]
     },
     "execution_count": 34,
     "metadata": {},
     "output_type": "execute_result"
    }
   ],
   "source": [
    "a = RR_selective_spreadsheet_transcription.Country\n",
    "b = RR_selective_spreadsheet_transcription.dgcat\n",
    "RR_selective_spreadsheet_transcription.dRGDP.groupby(b).mean()"
   ]
  },
  {
   "cell_type": "code",
   "execution_count": 31,
   "metadata": {},
   "outputs": [
    {
     "data": {
      "text/plain": [
       "dgcat\n",
       "0-30%        4.089220\n",
       "30-60%       2.854316\n",
       "60-90%       3.399440\n",
       "Above 90%   -0.062062\n",
       "dtype: float64"
      ]
     },
     "execution_count": 31,
     "metadata": {},
     "output_type": "execute_result"
    }
   ],
   "source": [
    "published_means = RR_selective_spreadsheet_transcription.dRGDP.groupby([a,b]).mean().unstack()\n",
    "published_means.loc['New Zealand', 'Above 90%'] = -7.9\n",
    "published_means.mean()"
   ]
  },
  {
   "cell_type": "markdown",
   "metadata": {},
   "source": [
    "## Medians"
   ]
  },
  {
   "cell_type": "code",
   "execution_count": 19,
   "metadata": {},
   "outputs": [
    {
     "data": {
      "text/plain": [
       "dgcat\n",
       "0-30%        4.145376\n",
       "30-60%       3.104629\n",
       "60-90%       2.897829\n",
       "Above 90%    2.335324\n",
       "Name: dRGDP, dtype: float64"
      ]
     },
     "execution_count": 19,
     "metadata": {},
     "output_type": "execute_result"
    }
   ],
   "source": [
    "RR.dRGDP.groupby(RR.dgcat).median() # Correct, equal weight"
   ]
  },
  {
   "cell_type": "code",
   "execution_count": 20,
   "metadata": {},
   "outputs": [
    {
     "data": {
      "text/plain": [
       "dgcat2\n",
       "0-30%         4.145376\n",
       "30-60%        3.104629\n",
       "60-90%        2.897829\n",
       "90-120%       2.373340\n",
       "Above 120%    2.039469\n",
       "Name: dRGDP, dtype: float64"
      ]
     },
     "execution_count": 20,
     "metadata": {},
     "output_type": "execute_result"
    }
   ],
   "source": [
    "RR.dRGDP.groupby(RR.dgcat2).median() # Correct, expanded categories, equal weight"
   ]
  },
  {
   "cell_type": "markdown",
   "metadata": {},
   "source": [
    "## Counts of years"
   ]
  },
  {
   "cell_type": "code",
   "execution_count": 21,
   "metadata": {},
   "outputs": [
    {
     "data": {
      "text/plain": [
       "dgcat\n",
       "0-30%        426.0\n",
       "30-60%       439.0\n",
       "60-90%       200.0\n",
       "Above 90%    110.0\n",
       "dtype: float64"
      ]
     },
     "execution_count": 21,
     "metadata": {},
     "output_type": "execute_result"
    }
   ],
   "source": [
    "RR.Country.groupby([RR.Country, RR.dgcat]).size().unstack().sum()"
   ]
  },
  {
   "cell_type": "code",
   "execution_count": 22,
   "metadata": {},
   "outputs": [
    {
     "data": {
      "text/plain": [
       "dgcat\n",
       "0-30%        426.0\n",
       "30-60%       439.0\n",
       "60-90%       200.0\n",
       "Above 90%     96.0\n",
       "dtype: float64"
      ]
     },
     "execution_count": 22,
     "metadata": {},
     "output_type": "execute_result"
    }
   ],
   "source": [
    "RR_selective.Country.groupby([RR.Country, RR.dgcat]).size().unstack().sum()"
   ]
  },
  {
   "cell_type": "code",
   "execution_count": 23,
   "metadata": {},
   "outputs": [
    {
     "data": {
      "text/plain": [
       "dgcat\n",
       "0-30%        329.0\n",
       "30-60%       324.0\n",
       "60-90%       138.0\n",
       "Above 90%     71.0\n",
       "dtype: float64"
      ]
     },
     "execution_count": 23,
     "metadata": {},
     "output_type": "execute_result"
    }
   ],
   "source": [
    "RR_selective_spreadsheet.Country.groupby([RR.Country, RR.dgcat]).size().unstack().sum()"
   ]
  },
  {
   "cell_type": "markdown",
   "metadata": {},
   "source": [
    "## Categorical scatterplot"
   ]
  },
  {
   "cell_type": "code",
   "execution_count": 25,
   "metadata": {},
   "outputs": [
    {
     "data": {
      "image/png": "[encoded data removed]",
      "text/plain": [
       "<matplotlib.figure.Figure at 0x110528b38>"
      ]
     },
     "metadata": {},
     "output_type": "display_data"
    }
   ],
   "source": [
    "labels = [\"0-30%\",\"30-60%\",\"60-90%\",\"Above 90%\"]\n",
    "dat = [np.array(RR.dRGDP[RR.dgcat==x]) for x in labels]\n",
    "sm.graphics.violinplot(dat, labels=labels);"
   ]
  },
  {
   "cell_type": "code",
   "execution_count": 27,
   "metadata": {},
   "outputs": [
    {
     "data": {
      "image/png": "[encoded data removed]",
      "text/plain": [
       "<matplotlib.figure.Figure at 0x110528780>"
      ]
     },
     "metadata": {},
     "output_type": "display_data"
    }
   ],
   "source": [
    "labels = [\"0-30%\",\"30-60%\",\"60-90%\",\"90-120%\",\"Above 120%\"]\n",
    "dat = [np.array(RR.dRGDP[RR.dgcat2==x]) for x in labels]\n",
    "sm.graphics.violinplot(dat, labels=labels);"
   ]
  },
  {
   "cell_type": "markdown",
   "metadata": {},
   "source": [
    "## Country-Year average by debtgdp for more recent samples"
   ]
  },
  {
   "cell_type": "code",
   "execution_count": 28,
   "metadata": {},
   "outputs": [
    {
     "data": {
      "text/plain": [
       "[(1950, dgcat\n",
       "  0-30%        4.135295\n",
       "  30-60%       2.980839\n",
       "  60-90%       3.100982\n",
       "  Above 90%    2.121852\n",
       "  Name: dRGDP, dtype: float64), (1960, dgcat\n",
       "  0-30%        3.895619\n",
       "  30-60%       2.909601\n",
       "  60-90%       2.779663\n",
       "  Above 90%    2.074064\n",
       "  Name: dRGDP, dtype: float64), (1970, dgcat\n",
       "  0-30%        3.145224\n",
       "  30-60%       2.644951\n",
       "  60-90%       2.559289\n",
       "  Above 90%    1.959229\n",
       "  Name: dRGDP, dtype: float64), (1980, dgcat\n",
       "  0-30%        2.541408\n",
       "  30-60%       2.451346\n",
       "  60-90%       2.435681\n",
       "  Above 90%    1.959229\n",
       "  Name: dRGDP, dtype: float64), (1990, dgcat\n",
       "  0-30%        2.669334\n",
       "  30-60%       2.403622\n",
       "  60-90%       2.457587\n",
       "  Above 90%    1.823201\n",
       "  Name: dRGDP, dtype: float64), (2000, dgcat\n",
       "  0-30%        2.747593\n",
       "  30-60%       1.881735\n",
       "  60-90%       1.290506\n",
       "  Above 90%    1.745087\n",
       "  Name: dRGDP, dtype: float64)]"
      ]
     },
     "execution_count": 28,
     "metadata": {},
     "output_type": "execute_result"
    }
   ],
   "source": [
    "years = range(1950, 2001, 10)\n",
    "f = lambda x: (x, RR[RR.Year >= x].dRGDP.groupby(RR[RR.Year >= x].dgcat).mean())\n",
    "[f(x) for x in years]"
   ]
  }
 ],
 "metadata": {
  "kernelspec": {
   "display_name": "Python 3",
   "language": "python",
   "name": "python3"
  },
  "language_info": {
   "codemirror_mode": {
    "name": "ipython",
    "version": 3
   },
   "file_extension": ".py",
   "mimetype": "text/x-python",
   "name": "python",
   "nbconvert_exporter": "python",
   "pygments_lexer": "ipython3",
   "version": "3.6.3"
  }
 },
 "nbformat": 4,
 "nbformat_minor": 1
}
