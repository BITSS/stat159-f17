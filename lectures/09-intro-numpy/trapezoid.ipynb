{
 "cells": [
  {
   "cell_type": "markdown",
   "metadata": {},
   "source": [
    "# The trapezoidal rule for numerical integration\n",
    "\n",
    "**Illustrates**: basic array slicing, functions as first class objects.\n",
    "\n",
    "In this exercise, you are tasked with implementing the simple trapezoid\n",
    "rule formula for numerical integration that we illustrated above.\n",
    "\n",
    "\n",
    "If we denote by $x_{i}$ ($i=0,\\ldots,n,$ with $x_{0}=a$ and $x_{n}=b$) the abscissas\n",
    "where the function is sampled, then\n",
    "\n",
    "$$\\int_{a}^{b}f(x)dx\\approx\\frac{1}{2}\\sum_{i=1}^{n}\\left(x_{i}-x_{i-1}\\right)\\left(f(x_{i})+f(x_{i-1})\\right).$$\n",
    "\n",
    "The common case of using equally spaced abscissas with spacing $h=(b-a)/n$ reads:\n",
    "\n",
    "$$\\int_{a}^{b}f(x)dx\\approx\\frac{h}{2}\\sum_{i=1}^{n}\\left(f(x_{i})+f(x_{i-1})\\right).$$\n",
    "\n",
    "One frequently receives the function values already precomputed, $y_{i}=f(x_{i}),$ so the formula becomes\n",
    "\n",
    "$$\\int_{a}^{b}f(x)dx\\approx\\frac{1}{2}\\sum_{i=1}^{n}\\left(x_{i}-x_{i-1}\\right)\\left(y_{i}+y_{i-1}\\right).$$\n",
    "\n",
    "In this exercise, you'll need to write two functions, `trapz` and `trapzf`. `trapz` applies the trapezoid formula to pre-computed values, implementing equation trapz, while `trapzf` takes a function $f$ as input, as well as the total number of samples to evaluate, and computes the equation above.\n",
    "\n",
    "Test it and show that it produces correct values for some simple integrals you can compute analytically or compare your answers against `scipy.integrate.trapz`, using as test function $f(x)$:\n",
    "\n",
    "$$\n",
    "f(x) = (x-3)(x-5)(x-7)+85\n",
    "$$\n",
    "\n",
    "integrated between $a=1$ and $b=9$.\n"
   ]
  },
  {
   "cell_type": "code",
   "execution_count": 1,
   "metadata": {
    "collapsed": true
   },
   "outputs": [],
   "source": [
    "%matplotlib inline\n",
    "import matplotlib.pyplot as plt\n",
    "import numpy as np\n",
    "import scipy.integrate as sint"
   ]
  },
  {
   "cell_type": "code",
   "execution_count": 2,
   "metadata": {},
   "outputs": [
    {
     "name": "stdout",
     "output_type": "stream",
     "text": [
      "Reference:\n",
      "680.0\n"
     ]
    }
   ],
   "source": [
    "def f(x):\n",
    "    return (x-3)*(x-5)*(x-7)+85\n",
    "\n",
    "a, b, n = (1, 9, 200)\n",
    "x = np.linspace(a, b, n)\n",
    "y = f(x)\n",
    "\n",
    "print(\"Reference:\")\n",
    "print(sint.trapz(y, x))"
   ]
  },
  {
   "cell_type": "code",
   "execution_count": 3,
   "metadata": {},
   "outputs": [
    {
     "name": "stdout",
     "output_type": "stream",
     "text": [
      "Our functions\n",
      "680.0\n",
      "680.0\n"
     ]
    }
   ],
   "source": [
    "def trapz(y, x):\n",
    "    return 0.5*((x[1:]-x[:-1])*(y[1:]+y[:-1])).sum()\n",
    "\n",
    "def trapzf(f, a, b, n):\n",
    "    x = np.linspace(a, b, n)\n",
    "    # Sample the input function at all values of x\n",
    "    y = f(x)\n",
    "    # Note that in the equations above, the list had n+1 points. Since here we're using\n",
    "    # n as the total number of points, the actual size of the interval h should \n",
    "    # use n-1 in the formula:\n",
    "    h = (b-a)/(n-1)\n",
    "    # Compute the trapezoid rule sum for the final result\n",
    "    return (h/2)*(y[1:]+y[:-1]).sum()\n",
    "\n",
    "print(\"Our functions\")\n",
    "print(trapz(y, x))\n",
    "print(trapzf(f, a, b, n))"
   ]
  },
  {
   "cell_type": "markdown",
   "metadata": {},
   "source": [
    "## Some performance notes\n",
    "\n",
    "Let's compare the time it takes to compute the fully vectorized form in our `trapz` with a more manual implementation that does the computation with a pure Python loop."
   ]
  },
  {
   "cell_type": "code",
   "execution_count": 4,
   "metadata": {},
   "outputs": [
    {
     "data": {
      "text/plain": [
       "680.00000000000011"
      ]
     },
     "execution_count": 4,
     "metadata": {},
     "output_type": "execute_result"
    }
   ],
   "source": [
    "def trapzl(y, x):\n",
    "    s = 0\n",
    "    for i in range(1, len(x)):\n",
    "        s += (x[i]-x[i-1])*(y[i]+y[i-1])\n",
    "    return s/2\n",
    "\n",
    "trapzl(y, x)"
   ]
  },
  {
   "cell_type": "markdown",
   "metadata": {},
   "source": [
    "Let's compute this over a much finer grid to really see the performance difference"
   ]
  },
  {
   "cell_type": "code",
   "execution_count": 5,
   "metadata": {},
   "outputs": [
    {
     "name": "stdout",
     "output_type": "stream",
     "text": [
      "37 µs ± 1.32 µs per loop (mean ± std. dev. of 7 runs, 10000 loops each)\n",
      "10.8 ms ± 67.2 µs per loop (mean ± std. dev. of 7 runs, 100 loops each)\n"
     ]
    }
   ],
   "source": [
    "a, b, n = (1, 9, 20_000)\n",
    "x = np.linspace(a, b, n)\n",
    "y = f(x)\n",
    "\n",
    "tv = %timeit -o trapz(y, x)\n",
    "tl = %timeit -o trapzl(y, x)"
   ]
  },
  {
   "cell_type": "code",
   "execution_count": 6,
   "metadata": {},
   "outputs": [
    {
     "data": {
      "text/plain": [
       "292.8693269399393"
      ]
     },
     "execution_count": 6,
     "metadata": {},
     "output_type": "execute_result"
    }
   ],
   "source": [
    "tl.average/tv.average"
   ]
  },
  {
   "cell_type": "markdown",
   "metadata": {},
   "source": [
    "Let's see what the performance difference is across a range of sizes (note this will take a while to run):"
   ]
  },
  {
   "cell_type": "code",
   "execution_count": 7,
   "metadata": {},
   "outputs": [
    {
     "name": "stdout",
     "output_type": "stream",
     "text": [
      "3.56 µs ± 90.1 ns per loop (mean ± std. dev. of 7 runs, 100000 loops each)\n",
      "5.5 µs ± 73.9 ns per loop (mean ± std. dev. of 7 runs, 100000 loops each)\n",
      "3.58 µs ± 58.6 ns per loop (mean ± std. dev. of 7 runs, 100000 loops each)\n",
      "52.8 µs ± 908 ns per loop (mean ± std. dev. of 7 runs, 10000 loops each)\n",
      "5.92 µs ± 145 ns per loop (mean ± std. dev. of 7 runs, 100000 loops each)\n",
      "535 µs ± 7.29 µs per loop (mean ± std. dev. of 7 runs, 1000 loops each)\n",
      "18.6 µs ± 229 ns per loop (mean ± std. dev. of 7 runs, 100000 loops each)\n",
      "5.39 ms ± 121 µs per loop (mean ± std. dev. of 7 runs, 100 loops each)\n",
      "152 µs ± 3.2 µs per loop (mean ± std. dev. of 7 runs, 10000 loops each)\n",
      "53.8 ms ± 1.82 ms per loop (mean ± std. dev. of 7 runs, 10 loops each)\n",
      "3.46 ms ± 88.7 µs per loop (mean ± std. dev. of 7 runs, 100 loops each)\n",
      "537 ms ± 6.31 ms per loop (mean ± std. dev. of 7 runs, 1 loop each)\n",
      "70.7 ms ± 414 µs per loop (mean ± std. dev. of 7 runs, 10 loops each)\n",
      "5.34 s ± 69 ms per loop (mean ± std. dev. of 7 runs, 1 loop each)\n"
     ]
    }
   ],
   "source": [
    "a, b = 1, 9\n",
    "\n",
    "tv, tl = [], []\n",
    "sizes = np.logspace(1, 7, 7)\n",
    "for n in sizes:\n",
    "    x = np.linspace(a, b, int(n))\n",
    "    y = f(x)\n",
    "    t1 = %timeit -o trapz(y, x)\n",
    "    tv.append(t1.average)\n",
    "    t2 = %timeit -o trapzl(y, x)\n",
    "    tl.append(t2.average)\n",
    "\n",
    "tva = np.array(tv)\n",
    "tla = np.array(tl)"
   ]
  },
  {
   "cell_type": "code",
   "execution_count": 8,
   "metadata": {},
   "outputs": [
    {
     "data": {
      "image/png": "[encoded data removed]",
      "text/plain": [
       "<matplotlib.figure.Figure at 0x105938828>"
      ]
     },
     "metadata": {},
     "output_type": "display_data"
    }
   ],
   "source": [
    "plt.semilogx(sizes, tla/tva, 'o-')\n",
    "plt.grid(True)\n",
    "plt.xlabel(\"Input size\")\n",
    "plt.ylabel(\"Timing ratio Python/Numpy\")\n",
    "plt.title(\"Python loop relative slowness\");"
   ]
  },
  {
   "cell_type": "markdown",
   "metadata": {},
   "source": [
    "A few observations:\n",
    "\n",
    "- At very small sizes the difference isn't very dramatic. The overhead of the Python function call and basic arithmetic dominates.\n",
    "\n",
    "- For input sizes ranging from the thousands to the million elements, the vectorized version can be ~ 100x to ~300x fastr than the pure Python loop.  This is not uncommon in real-world applications.\n",
    "\n",
    "- At very large sizes (at a million) the performance profile changes.\n",
    "\n",
    "In general it's extremely hard to predict exact performance ratios, which often vary in hard to understand ways with problem size, as hardware, cache and algorithm specifics intersect.  But the results of this example aren't suprising: whether exactly 100x or 350x slower, the fact remains that the vectorized solution vastly outperforms a pure Python loop.  This is a key aspect of Numpy as a key piece of high-performance Python.\n",
    "\n",
    "For an in-depth look at the \"vectorized mindset\" for Numpy, Nicolas Rougier has written the excellent (and free!) book [\"From Python to Numpy\"](http://www.labri.fr/perso/nrougier/from-python-to-numpy)."
   ]
  },
  {
   "cell_type": "markdown",
   "metadata": {},
   "source": [
    "## Numba\n",
    "\n",
    "Let's have a look at how [Numba](https://numba.pydata.org) can help in this type of loop-intensive code."
   ]
  },
  {
   "cell_type": "code",
   "execution_count": 9,
   "metadata": {},
   "outputs": [
    {
     "data": {
      "text/plain": [
       "680.0000000000001"
      ]
     },
     "execution_count": 9,
     "metadata": {},
     "output_type": "execute_result"
    }
   ],
   "source": [
    "from numba import jit\n",
    "\n",
    "trapzn = jit(trapzl)\n",
    "\n",
    "a, b, n = (1, 9, 200)\n",
    "x = np.linspace(a, b, n)\n",
    "y = f(x)\n",
    "\n",
    "trapzn(y, x)"
   ]
  },
  {
   "cell_type": "code",
   "execution_count": 10,
   "metadata": {},
   "outputs": [
    {
     "name": "stdout",
     "output_type": "stream",
     "text": [
      "36.6 µs ± 516 ns per loop (mean ± std. dev. of 7 runs, 10000 loops each)\n",
      "23.5 µs ± 508 ns per loop (mean ± std. dev. of 7 runs, 10000 loops each)\n"
     ]
    }
   ],
   "source": [
    "a, b, n = (1, 9, 20_000)\n",
    "x = np.linspace(a, b, n)\n",
    "y = f(x)\n",
    "\n",
    "tv = %timeit -o trapz(y, x)\n",
    "tn = %timeit -o trapzn(y, x)"
   ]
  },
  {
   "cell_type": "markdown",
   "metadata": {},
   "source": [
    "That's pretty impressive! By simply *compiling* our slow, Python code, we get it to beat the Numpy version at a size of 200.\n",
    "\n",
    "Let's collect Numba performance numbers similarly to the code above, and make a plot comparing Numba to Numpy at the same sizes:"
   ]
  },
  {
   "cell_type": "code",
   "execution_count": 11,
   "metadata": {},
   "outputs": [
    {
     "name": "stdout",
     "output_type": "stream",
     "text": [
      "434 ns ± 9.27 ns per loop (mean ± std. dev. of 7 runs, 1000000 loops each)\n",
      "537 ns ± 10.6 ns per loop (mean ± std. dev. of 7 runs, 1000000 loops each)\n",
      "1.61 µs ± 15 ns per loop (mean ± std. dev. of 7 runs, 1000000 loops each)\n",
      "11.9 µs ± 122 ns per loop (mean ± std. dev. of 7 runs, 100000 loops each)\n",
      "114 µs ± 1.86 µs per loop (mean ± std. dev. of 7 runs, 10000 loops each)\n",
      "1.2 ms ± 9.35 µs per loop (mean ± std. dev. of 7 runs, 1000 loops each)\n",
      "13 ms ± 133 µs per loop (mean ± std. dev. of 7 runs, 100 loops each)\n"
     ]
    }
   ],
   "source": [
    "a, b = 1, 9\n",
    "\n",
    "tn = []\n",
    "for n in sizes:\n",
    "    x = np.linspace(a, b, int(n))\n",
    "    y = f(x)\n",
    "    t1 = %timeit -o trapzn(y, x)\n",
    "    tn.append(t1.average)\n",
    "\n",
    "tna = np.array(tn)"
   ]
  },
  {
   "cell_type": "markdown",
   "metadata": {},
   "source": [
    "Let's look at the Numba data alongside the Python one:"
   ]
  },
  {
   "cell_type": "code",
   "execution_count": 12,
   "metadata": {},
   "outputs": [
    {
     "data": {
      "image/png": "[encoded data removed]",
      "text/plain": [
       "<matplotlib.figure.Figure at 0x1525ba5588>"
      ]
     },
     "metadata": {},
     "output_type": "display_data"
    }
   ],
   "source": [
    "plt.loglog(sizes, tla/tva, 'o-', label=\"Python\")\n",
    "plt.loglog(sizes, tna/tva, 'o-', label=\"Numba\")\n",
    "plt.grid(True)\n",
    "plt.legend()\n",
    "plt.xlabel(\"Input size\")\n",
    "plt.ylabel(\"Timing ratios\")\n",
    "plt.title(\"Performance relative to vectorized Numpy\");"
   ]
  },
  {
   "cell_type": "markdown",
   "metadata": {},
   "source": [
    "Let's quickly see the Numba/Numpy ratios (the raw numbers):"
   ]
  },
  {
   "cell_type": "code",
   "execution_count": 13,
   "metadata": {},
   "outputs": [
    {
     "name": "stdout",
     "output_type": "stream",
     "text": [
      "[ 0.1220925   0.14990992  0.2724308   0.63829727  0.75062583  0.34658816\n",
      "  0.18327677]\n",
      "[ 8.19051152  6.67067248  3.67065689  1.56666814  1.33222167  2.88526879\n",
      "  5.45622877]\n"
     ]
    }
   ],
   "source": [
    "print(tna/tva)\n",
    "print(tva/tna)  # Let's look at the reverse relation, which may be a bit easier to interpret"
   ]
  },
  {
   "cell_type": "markdown",
   "metadata": {},
   "source": [
    "Some quick thoughts:\n",
    "\n",
    "- The Numba performance is *always* better than Numpy.  Note that this is a pretty ideal case for Numpy, and we did exactly *nothing* to the Python code other than compile it with `numba.jit`.  We're basically getting better-than-numpy performance for free.  Nubma can be a bit like magic ([this blog post](https://jakevdp.github.io/blog/2015/02/24/optimizing-python-with-numpy-and-numba/) by Jake VanderPlas contains much more detail).\n",
    "\n",
    "- In some cases, the difference is quite remarkable. On the other hand, where Numpy performs best comapred to raw Python, Numba still beats it but not by too much.  This probably indicates Numpy is already nearly optimal in that range.\n",
    "\n",
    "\n",
    "Let's look at the actual times instead, which in this case can be informative:"
   ]
  },
  {
   "cell_type": "code",
   "execution_count": 14,
   "metadata": {},
   "outputs": [
    {
     "data": {
      "image/png": "[encoded data removed]",
      "text/plain": [
       "<matplotlib.figure.Figure at 0x105b628d0>"
      ]
     },
     "metadata": {},
     "output_type": "display_data"
    }
   ],
   "source": [
    "plt.loglog(sizes, tva, 'o-', label=\"Numpy\")\n",
    "plt.loglog(sizes, tna, 'o-', label=\"Numba\")\n",
    "plt.legend()\n",
    "plt.grid(True)\n",
    "plt.xlabel(\"Input size\")\n",
    "plt.ylabel(\"Time (s)\")\n",
    "plt.title(\"Total runtime\");"
   ]
  },
  {
   "cell_type": "markdown",
   "metadata": {},
   "source": [
    "We see that the runtime profile is more smoothly linear (as it should be) for the Numba code."
   ]
  },
  {
   "cell_type": "markdown",
   "metadata": {},
   "source": [
    "### Numerical accuracy\n",
    "\n",
    "We should finally take a quick look at accuracy considerations. In this case we know the exact answer (680), so we can see how each method compares. As $n \\rightarrow \\infty$ we expect them all to converge to 680, but let's see if any of them accumulates error worse than the others.  Remember, since the Numba version is algorithmically nothing but the Python code, any differences between Python and Numba would be due to Numba's compilation/optimizations:"
   ]
  },
  {
   "cell_type": "code",
   "execution_count": 15,
   "metadata": {
    "collapsed": true
   },
   "outputs": [],
   "source": [
    "def err(val, exact=680):\n",
    "    return abs((val-exact)/exact)\n",
    "\n",
    "# This time, let's make empty arrays and fill them in\n",
    "epy = np.empty_like(sizes)\n",
    "enpy = np.empty_like(sizes)\n",
    "enba = np.empty_like(sizes)\n",
    "\n",
    "for i,n in enumerate(sizes):\n",
    "    x = np.linspace(a, b, int(n))\n",
    "    y = f(x)\n",
    "    epy[i] = err(trapzl(y, x))\n",
    "    enpy[i] = err(trapz(y, x))\n",
    "    enba[i] = err(trapzn(y, x))"
   ]
  },
  {
   "cell_type": "code",
   "execution_count": 16,
   "metadata": {},
   "outputs": [
    {
     "data": {
      "image/png": "[encoded data removed]",
      "text/plain": [
       "<matplotlib.figure.Figure at 0x1525dddef0>"
      ]
     },
     "metadata": {},
     "output_type": "display_data"
    }
   ],
   "source": [
    "plt.loglog(sizes, enpy, 'o-', label='Numpy')\n",
    "plt.loglog(sizes, epy, 'o-', label='Python')\n",
    "plt.loglog(sizes, enba, 'o', label='Numba')\n",
    "plt.legend()\n",
    "plt.grid()\n",
    "plt.xlabel(\"Input size\")\n",
    "plt.ylabel(\"Relative error\");"
   ]
  },
  {
   "cell_type": "markdown",
   "metadata": {},
   "source": [
    "Fortunately, we see that Numba produces identical results to Pure Python (good news: its optimizations don't change the results).  Furthermore, while we see a small loss of accuracy relative to Numpy's [high accuracy summation algorithm](https://github.com/numpy/numpy/pull/3685), the error is $\\cal{O}(10^{-14})$, which is still close to floating-point precision."
   ]
  }
 ],
 "metadata": {
  "kernelspec": {
   "display_name": "Python 3",
   "language": "python",
   "name": "python3"
  },
  "language_info": {
   "codemirror_mode": {
    "name": "ipython",
    "version": 3
   },
   "file_extension": ".py",
   "mimetype": "text/x-python",
   "name": "python",
   "nbconvert_exporter": "python",
   "pygments_lexer": "ipython3",
   "version": "3.6.2"
  }
 },
 "nbformat": 4,
 "nbformat_minor": 2
}
