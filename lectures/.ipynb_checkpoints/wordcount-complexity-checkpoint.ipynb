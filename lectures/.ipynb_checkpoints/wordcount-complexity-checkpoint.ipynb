{
 "cells": [
  {
   "cell_type": "markdown",
   "metadata": {},
   "source": [
    "# Some notes on wordcount complexity"
   ]
  },
  {
   "cell_type": "code",
   "execution_count": 7,
   "metadata": {},
   "outputs": [],
   "source": [
    "%load_ext tutormagic"
   ]
  },
  {
   "cell_type": "code",
   "execution_count": 23,
   "metadata": {},
   "outputs": [
    {
     "data": {
      "text/html": [
       "\n",
       "        <iframe\n",
       "            width=\"100%\"\n",
       "            height=\"350\"\n",
       "            src=\"http://pythontutor.com/iframe-embed.html#code=%0Atext%20%3D%20%22a%20b%20c%20ab%20abc%20a%20b%20ab%20a%20b%20abc%20c%20a%20a%20b%20a%20ab%20a%20cc%20aa%20bb%22%0Awords%20%3D%20text.split%28%29%0Awd%20%3D%20%7Btext.count%28w%29%20for%20w%20in%20words%7D&origin=opt-frontend.js&cumulative=false&heapPrimitives=false&textReferences=false&curInstr=0&&verticalStack=false&py=3&rawInputLstJSON=%5B%5D&codeDivWidth=50%25&codeDivHeight=100%25\"\n",
       "            frameborder=\"0\"\n",
       "            allowfullscreen\n",
       "        ></iframe>\n",
       "        "
      ],
      "text/plain": [
       "<IPython.lib.display.IFrame at 0x104288358>"
      ]
     },
     "metadata": {},
     "output_type": "display_data"
    }
   ],
   "source": [
    "%%tutor --lang python3\n",
    "\n",
    "text = \"a b c ab abc a b ab a b abc c a a b a ab a cc aa bb\"\n",
    "words = text.split()\n",
    "wd = {text.count(w) for w in words}"
   ]
  },
  {
   "cell_type": "code",
   "execution_count": 24,
   "metadata": {},
   "outputs": [
    {
     "data": {
      "text/html": [
       "\n",
       "        <iframe\n",
       "            width=\"100%\"\n",
       "            height=\"350\"\n",
       "            src=\"http://pythontutor.com/iframe-embed.html#code=%0Atext%20%3D%20%22a%20b%20c%20ab%20abc%20a%20b%20ab%20a%20b%20abc%20c%20a%20a%20b%20a%20ab%20a%20cc%20aa%20bb%22%0Awords%20%3D%20text.split%28%29%0Awd%20%3D%20%7Bwords.count%28w%29%20for%20w%20in%20words%7D&origin=opt-frontend.js&cumulative=false&heapPrimitives=false&textReferences=false&curInstr=0&&verticalStack=false&py=3&rawInputLstJSON=%5B%5D&codeDivWidth=50%25&codeDivHeight=100%25\"\n",
       "            frameborder=\"0\"\n",
       "            allowfullscreen\n",
       "        ></iframe>\n",
       "        "
      ],
      "text/plain": [
       "<IPython.lib.display.IFrame at 0x104288358>"
      ]
     },
     "metadata": {},
     "output_type": "display_data"
    }
   ],
   "source": [
    "%%tutor --lang python3\n",
    "\n",
    "text = \"a b c ab abc a b ab a b abc c a a b a ab a cc aa bb\"\n",
    "words = text.split()\n",
    "wd = {words.count(w) for w in words}"
   ]
  },
  {
   "cell_type": "code",
   "execution_count": 25,
   "metadata": {},
   "outputs": [
    {
     "data": {
      "text/html": [
       "\n",
       "        <iframe\n",
       "            width=\"100%\"\n",
       "            height=\"350\"\n",
       "            src=\"http://pythontutor.com/iframe-embed.html#code=%0Atext%20%3D%20%22a%20b%20c%20ab%20abc%20a%20b%20ab%20a%20b%20abc%20c%20a%20a%20b%20a%20ab%20a%20cc%20aa%20bb%22%0Awords%20%3D%20text.split%28%29%0Awd%20%3D%20%7Bwords.count%28w%29%20for%20w%20in%20set%28words%29%7D&origin=opt-frontend.js&cumulative=false&heapPrimitives=false&textReferences=false&curInstr=0&&verticalStack=false&py=3&rawInputLstJSON=%5B%5D&codeDivWidth=50%25&codeDivHeight=100%25\"\n",
       "            frameborder=\"0\"\n",
       "            allowfullscreen\n",
       "        ></iframe>\n",
       "        "
      ],
      "text/plain": [
       "<IPython.lib.display.IFrame at 0x104288358>"
      ]
     },
     "metadata": {},
     "output_type": "display_data"
    }
   ],
   "source": [
    "%%tutor --lang python3\n",
    "\n",
    "text = \"a b c ab abc a b ab a b abc c a a b a ab a cc aa bb\"\n",
    "words = text.split()\n",
    "wd = {words.count(w) for w in set(words)}"
   ]
  },
  {
   "cell_type": "code",
   "execution_count": 26,
   "metadata": {},
   "outputs": [
    {
     "data": {
      "text/html": [
       "\n",
       "        <iframe\n",
       "            width=\"100%\"\n",
       "            height=\"350\"\n",
       "            src=\"http://pythontutor.com/iframe-embed.html#code=%0Atext%20%3D%20%22a%20b%20c%20ab%20abc%20a%20b%20ab%20a%20b%20abc%20c%20a%20a%20b%20a%20ab%20a%20cc%20aa%20bb%22%0Awords%20%3D%20text.split%28%29%0Awd%20%3D%20%7B%7D%0Afor%20w%20in%20words%3A%0A%20%20%20%20wd%5Bw%5D%20%3D%20wd.get%28w%2C%200%29%20%2B%201&origin=opt-frontend.js&cumulative=false&heapPrimitives=false&textReferences=false&curInstr=0&&verticalStack=false&py=3&rawInputLstJSON=%5B%5D&codeDivWidth=50%25&codeDivHeight=100%25\"\n",
       "            frameborder=\"0\"\n",
       "            allowfullscreen\n",
       "        ></iframe>\n",
       "        "
      ],
      "text/plain": [
       "<IPython.lib.display.IFrame at 0x1042884e0>"
      ]
     },
     "metadata": {},
     "output_type": "display_data"
    }
   ],
   "source": [
    "%%tutor --lang python3\n",
    "\n",
    "text = \"a b c ab abc a b ab a b abc c a a b a ab a cc aa bb\"\n",
    "words = text.split()\n",
    "wd = {}\n",
    "for w in words:\n",
    "    wd[w] = wd.get(w, 0) + 1"
   ]
  },
  {
   "cell_type": "code",
   "execution_count": null,
   "metadata": {},
   "outputs": [],
   "source": []
  },
  {
   "cell_type": "code",
   "execution_count": 16,
   "metadata": {},
   "outputs": [],
   "source": [
    "text = \"a b c ab abc a b ab a b abc c a a b a ab a cc aa bb\"\n",
    "words = text.split()\n",
    "wset = set(words)\n",
    "wd = {}"
   ]
  }
 ],
 "metadata": {
  "kernelspec": {
   "display_name": "Python 3",
   "language": "python",
   "name": "python3"
  },
  "language_info": {
   "codemirror_mode": {
    "name": "ipython",
    "version": 3
   },
   "file_extension": ".py",
   "mimetype": "text/x-python",
   "name": "python",
   "nbconvert_exporter": "python",
   "pygments_lexer": "ipython3",
   "version": "3.6.2"
  }
 },
 "nbformat": 4,
 "nbformat_minor": 2
}
